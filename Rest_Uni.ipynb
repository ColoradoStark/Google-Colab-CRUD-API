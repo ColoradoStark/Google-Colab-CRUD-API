{
  "nbformat": 4,
  "nbformat_minor": 0,
  "metadata": {
    "colab": {
      "name": "Rest-Uni.ipynb",
      "provenance": []
    },
    "kernelspec": {
      "name": "python3",
      "display_name": "Python 3"
    },
    "language_info": {
      "name": "python"
    }
  },
  "cells": [
    {
      "cell_type": "code",
      "metadata": {
        "id": "Gz9r5BEZz7uv"
      },
      "source": [
        "# Install Dependencies\n",
        "\n",
        "!pip install flask-ngrok\n",
        "\n",
        "from flask import Flask, request, jsonify\n",
        "from flask_ngrok import run_with_ngrok\n",
        "from flask import request\n",
        "import json\n",
        "\n"
      ],
      "execution_count": null,
      "outputs": []
    },
    {
      "cell_type": "code",
      "metadata": {
        "id": "BhlduEMZ_cYs"
      },
      "source": [
        "# Define a Player Object\n",
        "\n",
        "class player:\n",
        "\n",
        "    def __init__(self, name, ip, hp, mana):\n",
        "        self.name = name\n",
        "        self.ip = ip\n",
        "        self.hp = hp\n",
        "        self.mana = mana\n",
        "  \n",
        "\n",
        "    def update(self, name, ip, hp, mana):\n",
        "        self.name = name\n",
        "        self.ip = ip\n",
        "        self.hp = hp\n",
        "        self.mana = mana\n",
        "\n",
        "\n"
      ],
      "execution_count": 2,
      "outputs": []
    },
    {
      "cell_type": "code",
      "metadata": {
        "id": "wdWmYoW3ykyD"
      },
      "source": [
        "# Create a \"list\" (Something like an Array) of Player Objects\n",
        "\n",
        "players = [player(\"gandalf\",\"1.1.1.1\", 30,100), player(\"froto\",\"2.2.2.2\", 20,5), player(\"boromir\", \"3.3.3.3\", 50, 0)]"
      ],
      "execution_count": 3,
      "outputs": []
    },
    {
      "cell_type": "code",
      "metadata": {
        "id": "bAha5aDBtvUB"
      },
      "source": [
        "# Define a function that will convert the list to JSON and write it to the disk\n",
        "\n",
        "def Backup():\n",
        "\n",
        "  backupdata = json.dumps([ob.__dict__ for ob in players])\n",
        "  f = open(\"backup.csv\", \"w\")\n",
        "  f.write(backupdata)\n",
        "  f.close()\n"
      ],
      "execution_count": 4,
      "outputs": []
    },
    {
      "cell_type": "code",
      "metadata": {
        "id": "6MfTD_tTzD3c"
      },
      "source": [
        "# Exectue a backup of the data in the list\n",
        "\n",
        "Backup()"
      ],
      "execution_count": 5,
      "outputs": []
    },
    {
      "cell_type": "code",
      "metadata": {
        "id": "VLMZWaUyZW2o"
      },
      "source": [
        "app = Flask(__name__)\n",
        "run_with_ngrok(app)   \n",
        "  \n",
        "@app.route(\"/\", methods=['GET'])\n",
        "def home():\n",
        "\n",
        "    return \"<h1>The server is up</h1>\"\n",
        "\n",
        "@app.route(\"/create/\", methods=['POST'])\n",
        "def create():\n",
        "\n",
        "    name = request.get_json()['name']\n",
        "    ip = request.get_json() ['ip']\n",
        "    hp = request.get_json() ['hp']\n",
        "    mana = request.get_json() ['mana']\n",
        "    players.append(player(name, ip, hp, mana))\n",
        "\n",
        "    uid = next((i for i, item in enumerate(players) if item.name == name), -1)\n",
        "\n",
        "    Backup()\n",
        "    \n",
        "    return jsonify(message=\"Successfully Created Player\", id=uid), 200\n",
        "\n",
        "@app.route(\"/getallplayers/\", methods=['GET'])\n",
        "def getallplayers():\n",
        "\n",
        "    allplayers = json.dumps([ob.__dict__ for ob in players])\n",
        "\n",
        "    return allplayers, 200\n",
        "\n",
        "@app.route(\"/getplayerinfo/\", methods=['GET'])\n",
        "def getplayerinfo():\n",
        "\n",
        "    uid = request.get_json()['id']\n",
        "\n",
        "    return jsonify(name = players[uid].name, ip = players[uid].ip, hp=players[uid].hp, mana=players[uid].mana), 200\n",
        "\n",
        "\n",
        "@app.route(\"/update/\", methods=['PUT'])\n",
        "def update():\n",
        "    \n",
        "    name = request.get_json()['name']\n",
        "    ip = request.get_json() ['ip']\n",
        "    hp = request.get_json() ['hp']\n",
        "    mana = request.get_json() ['mana']\n",
        "    uid = request.get_json() ['id']\n",
        "    \n",
        "    players[uid].name = name\n",
        "    players[uid].ip = ip \n",
        "    players[uid].hp = hp \n",
        "    players[uid].mana = mana \n",
        "\n",
        "    Backup ()\n",
        "    \n",
        "    return jsonify(message=\"Successfully Updated Player\", id=uid), 200\n",
        "\n",
        "\n",
        "@app.route(\"/delete/\", methods=['DELETE'])\n",
        "def delete():\n",
        "\n",
        "    uid = request.get_json() ['id']\n",
        "    \n",
        "    players[uid].name = \"null\"\n",
        "    players[uid].ip = \"null\" \n",
        "    players[uid].hp = 0 \n",
        "    players[uid].mana = 0 \n",
        "\n",
        "    Backup ()\n",
        "    \n",
        "    return jsonify(message=\"Successfully Deleted Player Data\", id=uid), 200\n",
        " \n",
        "app.run()"
      ],
      "execution_count": null,
      "outputs": []
    }
  ]
}