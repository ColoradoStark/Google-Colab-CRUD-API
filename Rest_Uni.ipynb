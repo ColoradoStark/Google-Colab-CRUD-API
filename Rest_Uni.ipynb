{
  "nbformat": 4,
  "nbformat_minor": 0,
  "metadata": {
    "colab": {
      "name": "Rest-Uni.ipynb",
      "provenance": []
    },
    "kernelspec": {
      "name": "python3",
      "display_name": "Python 3"
    },
    "language_info": {
      "name": "python"
    }
  },
  "cells": [
    {
      "cell_type": "code",
      "metadata": {
        "colab": {
          "base_uri": "https://localhost:8080/"
        },
        "id": "Gz9r5BEZz7uv",
        "outputId": "7f531a37-2a1a-40d2-f289-e14a4f737af0"
      },
      "source": [
        "# Install Dependencies\n",
        "\n",
        "!pip install flask-ngrok\n",
        "\n",
        "from flask import Flask, request, jsonify\n",
        "from flask_ngrok import run_with_ngrok\n",
        "from flask import request\n",
        "import json\n",
        "\n"
      ],
      "execution_count": 1,
      "outputs": [
        {
          "output_type": "stream",
          "name": "stdout",
          "text": [
            "Requirement already satisfied: flask-ngrok in /usr/local/lib/python3.7/dist-packages (0.0.25)\n",
            "Requirement already satisfied: Flask>=0.8 in /usr/local/lib/python3.7/dist-packages (from flask-ngrok) (1.1.4)\n",
            "Requirement already satisfied: requests in /usr/local/lib/python3.7/dist-packages (from flask-ngrok) (2.23.0)\n",
            "Requirement already satisfied: Jinja2<3.0,>=2.10.1 in /usr/local/lib/python3.7/dist-packages (from Flask>=0.8->flask-ngrok) (2.11.3)\n",
            "Requirement already satisfied: Werkzeug<2.0,>=0.15 in /usr/local/lib/python3.7/dist-packages (from Flask>=0.8->flask-ngrok) (1.0.1)\n",
            "Requirement already satisfied: click<8.0,>=5.1 in /usr/local/lib/python3.7/dist-packages (from Flask>=0.8->flask-ngrok) (7.1.2)\n",
            "Requirement already satisfied: itsdangerous<2.0,>=0.24 in /usr/local/lib/python3.7/dist-packages (from Flask>=0.8->flask-ngrok) (1.1.0)\n",
            "Requirement already satisfied: MarkupSafe>=0.23 in /usr/local/lib/python3.7/dist-packages (from Jinja2<3.0,>=2.10.1->Flask>=0.8->flask-ngrok) (2.0.1)\n",
            "Requirement already satisfied: certifi>=2017.4.17 in /usr/local/lib/python3.7/dist-packages (from requests->flask-ngrok) (2021.5.30)\n",
            "Requirement already satisfied: chardet<4,>=3.0.2 in /usr/local/lib/python3.7/dist-packages (from requests->flask-ngrok) (3.0.4)\n",
            "Requirement already satisfied: urllib3!=1.25.0,!=1.25.1,<1.26,>=1.21.1 in /usr/local/lib/python3.7/dist-packages (from requests->flask-ngrok) (1.24.3)\n",
            "Requirement already satisfied: idna<3,>=2.5 in /usr/local/lib/python3.7/dist-packages (from requests->flask-ngrok) (2.10)\n"
          ]
        }
      ]
    },
    {
      "cell_type": "code",
      "metadata": {
        "id": "BhlduEMZ_cYs"
      },
      "source": [
        "# Define a Player Object\n",
        "\n",
        "class player:\n",
        "\n",
        "    def __init__(self, name, ip, hp, mana):\n",
        "        self.name = name\n",
        "        self.ip = ip\n",
        "        self.hp = hp\n",
        "        self.mana = mana\n",
        "  \n",
        "\n",
        "    def update(self, name, ip, hp, mana):\n",
        "        self.name = name\n",
        "        self.ip = ip\n",
        "        self.hp = hp\n",
        "        self.mana = mana\n",
        "\n",
        "\n"
      ],
      "execution_count": 2,
      "outputs": []
    },
    {
      "cell_type": "code",
      "metadata": {
        "id": "wdWmYoW3ykyD"
      },
      "source": [
        "# Create a \"list\" (Something like an Array) of Player Objects\n",
        "\n",
        "players = [player(\"gandalf\",\"1.1.1.1\", 30,100), player(\"froto\",\"2.2.2.2\", 20,5), player(\"boromir\", \"3.3.3.3\", 50, 0)]"
      ],
      "execution_count": 3,
      "outputs": []
    },
    {
      "cell_type": "code",
      "metadata": {
        "id": "bAha5aDBtvUB"
      },
      "source": [
        "# Define a function that will convert the list to JSON and write it to the disk\n",
        "\n",
        "def Backup():\n",
        "\n",
        "  backupdata = json.dumps([ob.__dict__ for ob in players])\n",
        "  f = open(\"backup.csv\", \"w\")\n",
        "  f.write(backupdata)\n",
        "  f.close()\n"
      ],
      "execution_count": 4,
      "outputs": []
    },
    {
      "cell_type": "code",
      "metadata": {
        "id": "6MfTD_tTzD3c"
      },
      "source": [
        "# Exectue a backup of the data in the list\n",
        "\n",
        "Backup()"
      ],
      "execution_count": 5,
      "outputs": []
    },
    {
      "cell_type": "code",
      "metadata": {
        "colab": {
          "base_uri": "https://localhost:8080/"
        },
        "id": "VLMZWaUyZW2o",
        "outputId": "d6f3efae-400c-41a5-a7c3-4a1dfbf2338e"
      },
      "source": [
        "app = Flask(__name__)\n",
        "run_with_ngrok(app)   \n",
        "  \n",
        "@app.route(\"/\", methods=['GET'])\n",
        "def home():\n",
        "\n",
        "    return \"<h1>The server is up</h1>\"\n",
        "\n",
        "@app.route(\"/create/\", methods=['POST'])\n",
        "def create():\n",
        "\n",
        "    name = request.get_json()['name']\n",
        "    ip = request.get_json() ['ip']\n",
        "    hp = request.get_json() ['hp']\n",
        "    mana = request.get_json() ['mana']\n",
        "    players.append(player(name, ip, hp, mana))\n",
        "\n",
        "    uid = next((i for i, item in enumerate(players) if item.name == name), -1)\n",
        "\n",
        "    Backup()\n",
        "    \n",
        "    return jsonify(message=\"Successfully Created Player\", id=uid), 200\n",
        "\n",
        "@app.route(\"/getallplayers/\", methods=['GET'])\n",
        "def getallplayers():\n",
        "\n",
        "    allplayers = json.dumps([ob.__dict__ for ob in players])\n",
        "\n",
        "    return allplayers, 200\n",
        "\n",
        "@app.route(\"/getplayerinfo/\", methods=['GET'])\n",
        "def getplayerinfo():\n",
        "\n",
        "    uid = request.get_json()['id']\n",
        "\n",
        "    return jsonify(name = players[uid].name, ip = players[uid].ip, hp=players[uid].hp, mana=players[uid].mana), 200\n",
        "\n",
        "\n",
        "@app.route(\"/update/\", methods=['PUT'])\n",
        "def update():\n",
        "    \n",
        "    name = request.get_json()['name']\n",
        "    ip = request.get_json() ['ip']\n",
        "    hp = request.get_json() ['hp']\n",
        "    mana = request.get_json() ['mana']\n",
        "    uid = request.get_json() ['id']\n",
        "    \n",
        "    players[uid].name = name\n",
        "    players[uid].ip = ip \n",
        "    players[uid].hp = hp \n",
        "    players[uid].mana = mana \n",
        "\n",
        "    Backup ()\n",
        "    \n",
        "    return jsonify(message=\"Successfully Updated Player\", id=uid), 200\n",
        "\n",
        "\n",
        "@app.route(\"/delete/\", methods=['DELETE'])\n",
        "def delete():\n",
        "\n",
        "    uid = request.get_json() ['id']\n",
        "    \n",
        "    players[uid].name = \"null\"\n",
        "    players[uid].ip = \"null\" \n",
        "    players[uid].hp = 0 \n",
        "    players[uid].mana = 0 \n",
        "\n",
        "    Backup ()\n",
        "    \n",
        "    return jsonify(message=\"Successfully Deleted Player Data\", id=uid), 200\n",
        " \n",
        "app.run()"
      ],
      "execution_count": 6,
      "outputs": [
        {
          "output_type": "stream",
          "name": "stdout",
          "text": [
            " * Serving Flask app \"__main__\" (lazy loading)\n",
            " * Environment: production\n",
            "\u001b[31m   WARNING: This is a development server. Do not use it in a production deployment.\u001b[0m\n",
            "\u001b[2m   Use a production WSGI server instead.\u001b[0m\n",
            " * Debug mode: off\n"
          ]
        },
        {
          "output_type": "stream",
          "name": "stderr",
          "text": [
            " * Running on http://127.0.0.1:5000/ (Press CTRL+C to quit)\n"
          ]
        },
        {
          "output_type": "stream",
          "name": "stdout",
          "text": [
            " * Running on http://8128-34-136-100-187.ngrok.io\n",
            " * Traffic stats available on http://127.0.0.1:4040\n"
          ]
        },
        {
          "output_type": "stream",
          "name": "stderr",
          "text": [
            "127.0.0.1 - - [25/Sep/2021 22:34:31] \"\u001b[32mDELETE /delete HTTP/1.1\u001b[0m\" 308 -\n",
            "[2021-09-25 22:34:31,824] ERROR in app: Exception on /delete/ [DELETE]\n",
            "Traceback (most recent call last):\n",
            "  File \"/usr/local/lib/python3.7/dist-packages/flask/app.py\", line 2447, in wsgi_app\n",
            "    response = self.full_dispatch_request()\n",
            "  File \"/usr/local/lib/python3.7/dist-packages/flask/app.py\", line 1952, in full_dispatch_request\n",
            "    rv = self.handle_user_exception(e)\n",
            "  File \"/usr/local/lib/python3.7/dist-packages/flask/app.py\", line 1821, in handle_user_exception\n",
            "    reraise(exc_type, exc_value, tb)\n",
            "  File \"/usr/local/lib/python3.7/dist-packages/flask/_compat.py\", line 39, in reraise\n",
            "    raise value\n",
            "  File \"/usr/local/lib/python3.7/dist-packages/flask/app.py\", line 1950, in full_dispatch_request\n",
            "    rv = self.dispatch_request()\n",
            "  File \"/usr/local/lib/python3.7/dist-packages/flask/app.py\", line 1936, in dispatch_request\n",
            "    return self.view_functions[rule.endpoint](**req.view_args)\n",
            "  File \"<ipython-input-6-441da2a9f974>\", line 63, in delete\n",
            "    players[uid].name = \"null\"\n",
            "IndexError: list index out of range\n",
            "127.0.0.1 - - [25/Sep/2021 22:34:31] \"\u001b[35m\u001b[1mDELETE /delete/ HTTP/1.1\u001b[0m\" 500 -\n",
            "127.0.0.1 - - [25/Sep/2021 22:34:44] \"\u001b[37mGET / HTTP/1.1\u001b[0m\" 200 -\n",
            "127.0.0.1 - - [25/Sep/2021 22:35:28] \"\u001b[32mPOST /create HTTP/1.1\u001b[0m\" 308 -\n",
            "127.0.0.1 - - [25/Sep/2021 22:35:28] \"\u001b[37mPOST /create/ HTTP/1.1\u001b[0m\" 200 -\n",
            "127.0.0.1 - - [25/Sep/2021 22:35:52] \"\u001b[32mGET /getallplayers HTTP/1.1\u001b[0m\" 308 -\n",
            "127.0.0.1 - - [25/Sep/2021 22:35:52] \"\u001b[37mGET /getallplayers/ HTTP/1.1\u001b[0m\" 200 -\n",
            "127.0.0.1 - - [25/Sep/2021 22:36:57] \"\u001b[32mGET /getplayerinfo HTTP/1.1\u001b[0m\" 308 -\n",
            "127.0.0.1 - - [25/Sep/2021 22:36:57] \"\u001b[37mGET /getplayerinfo/ HTTP/1.1\u001b[0m\" 200 -\n",
            "127.0.0.1 - - [25/Sep/2021 22:37:44] \"\u001b[32mGET /getplayerinfo HTTP/1.1\u001b[0m\" 308 -\n",
            "127.0.0.1 - - [25/Sep/2021 22:37:45] \"\u001b[31m\u001b[1mGET /getplayerinfo/ HTTP/1.1\u001b[0m\" 400 -\n",
            "127.0.0.1 - - [25/Sep/2021 22:37:51] \"\u001b[32mGET /getplayerinfo HTTP/1.1\u001b[0m\" 308 -\n",
            "127.0.0.1 - - [25/Sep/2021 22:37:52] \"\u001b[37mGET /getplayerinfo/ HTTP/1.1\u001b[0m\" 200 -\n",
            "127.0.0.1 - - [25/Sep/2021 22:38:57] \"\u001b[32mPUT /update HTTP/1.1\u001b[0m\" 308 -\n",
            "127.0.0.1 - - [25/Sep/2021 22:38:57] \"\u001b[37mPUT /update/ HTTP/1.1\u001b[0m\" 200 -\n",
            "127.0.0.1 - - [25/Sep/2021 22:39:10] \"\u001b[31m\u001b[1mPUT /getplayerinfo HTTP/1.1\u001b[0m\" 405 -\n",
            "127.0.0.1 - - [25/Sep/2021 22:39:15] \"\u001b[32mGET /getplayerinfo HTTP/1.1\u001b[0m\" 308 -\n",
            "127.0.0.1 - - [25/Sep/2021 22:39:15] \"\u001b[37mGET /getplayerinfo/ HTTP/1.1\u001b[0m\" 200 -\n",
            "127.0.0.1 - - [25/Sep/2021 22:39:35] \"\u001b[32mDELETE /delete HTTP/1.1\u001b[0m\" 308 -\n",
            "127.0.0.1 - - [25/Sep/2021 22:39:35] \"\u001b[37mDELETE /delete/ HTTP/1.1\u001b[0m\" 200 -\n",
            "127.0.0.1 - - [25/Sep/2021 22:39:46] \"\u001b[32mGET /getplayerinfo HTTP/1.1\u001b[0m\" 308 -\n",
            "127.0.0.1 - - [25/Sep/2021 22:39:46] \"\u001b[37mGET /getplayerinfo/ HTTP/1.1\u001b[0m\" 200 -\n"
          ]
        }
      ]
    }
  ]
}